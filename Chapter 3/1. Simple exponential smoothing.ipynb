{
 "cells": [
  {
   "cell_type": "code",
   "execution_count": 1,
   "metadata": {
    "ExecuteTime": {
     "end_time": "2020-05-31T04:30:40.507382Z",
     "start_time": "2020-05-31T04:30:37.289907Z"
    }
   },
   "outputs": [],
   "source": [
    "from statsmodels.tsa.api import SimpleExpSmoothing\n",
    "import pandas as pd\n",
    "import numpy as np\n",
    "from sklearn import metrics\n",
    "df = pd.read_csv(r'..\\Data\\FB.csv')"
   ]
  },
  {
   "cell_type": "code",
   "execution_count": null,
   "metadata": {
    "ExecuteTime": {
     "end_time": "2020-05-31T04:30:41.913587Z",
     "start_time": "2020-05-31T04:30:41.880678Z"
    },
    "scrolled": true
   },
   "outputs": [],
   "source": [
    "df.head(10)"
   ]
  },
  {
   "cell_type": "code",
   "execution_count": 3,
   "metadata": {
    "ExecuteTime": {
     "end_time": "2020-05-31T04:30:43.707790Z",
     "start_time": "2020-05-31T04:30:43.703799Z"
    }
   },
   "outputs": [],
   "source": [
    "X = df['Close']"
   ]
  },
  {
   "cell_type": "code",
   "execution_count": 4,
   "metadata": {
    "ExecuteTime": {
     "end_time": "2020-05-31T04:30:46.305839Z",
     "start_time": "2020-05-31T04:30:46.300852Z"
    },
    "scrolled": true
   },
   "outputs": [],
   "source": [
    "test = X.iloc[-30:]"
   ]
  },
  {
   "cell_type": "code",
   "execution_count": 5,
   "metadata": {
    "ExecuteTime": {
     "end_time": "2020-05-31T04:30:47.338114Z",
     "start_time": "2020-05-31T04:30:47.333095Z"
    },
    "scrolled": true
   },
   "outputs": [],
   "source": [
    "train = X.iloc[:-30]"
   ]
  },
  {
   "cell_type": "code",
   "execution_count": null,
   "metadata": {},
   "outputs": [],
   "source": [
    "''''\n",
    "smoothing_level (float, optional) – The smoothing_level value of the simple exponential smoothing, if the value is set then this value will be used as the value.\n",
    "optimized (bool) – Should the values that have not been set above be optimized automatically?\n",
    "''''"
   ]
  },
  {
   "cell_type": "code",
   "execution_count": 6,
   "metadata": {
    "ExecuteTime": {
     "end_time": "2020-05-31T04:30:49.974030Z",
     "start_time": "2020-05-31T04:30:49.967046Z"
    }
   },
   "outputs": [],
   "source": [
    "def timeseries_evaluation_metrics_func(y_true, y_pred):\n",
    "    \n",
    "    def mean_absolute_percentage_error(y_true, y_pred): \n",
    "        y_true, y_pred = np.array(y_true), np.array(y_pred)\n",
    "        return np.mean(np.abs((y_true - y_pred) / y_true)) * 100\n",
    "    print('Evaluation metric results:-')\n",
    "    print(f'MSE is : {metrics.mean_squared_error(y_true, y_pred)}')\n",
    "    print(f'MAE is : {metrics.mean_absolute_error(y_true, y_pred)}')\n",
    "    print(f'RMSE is : {np.sqrt(metrics.mean_squared_error(y_true, y_pred))}')\n",
    "    print(f'MAPE is : {mean_absolute_percentage_error(y_true, y_pred)}')\n",
    "    print(f'R2 is : {metrics.r2_score(y_true, y_pred)}',end='\\n\\n')"
   ]
  },
  {
   "cell_type": "code",
   "execution_count": null,
   "metadata": {
    "ExecuteTime": {
     "end_time": "2020-05-31T04:31:04.946018Z",
     "start_time": "2020-05-31T04:31:04.768460Z"
    },
    "scrolled": true
   },
   "outputs": [],
   "source": [
    "resu = []\n",
    "temp_df = pd.DataFrame()\n",
    "#df2 = pd.DataFrame(columns=['smoothing parameter', 'RMSE'])\n",
    "for i in [0 , 0.10, 0.20, 0.30, 0.40, 0.50, 0.60, 0.70, 0.80, 0.90,1]:\n",
    "    print(f'Fitting for smoothing level= {i}')\n",
    "    fit_v = SimpleExpSmoothing(np.asarray(train)).fit(i)\n",
    "    fcst_pred_v= fit_v.forecast(30)\n",
    "    timeseries_evaluation_metrics_func(test,fcst_pred_v)\n",
    "    rmse = np.sqrt(metrics.mean_squared_error(test, fcst_pred_v))\n",
    "    df3 = {'smoothing parameter':i, 'RMSE': rmse}\n",
    "    temp_df = temp_df.append(df3, ignore_index=True)\n",
    "temp_df.sort_values(by=['RMSE']).head(3)"
   ]
  },
  {
   "cell_type": "code",
   "execution_count": 8,
   "metadata": {
    "ExecuteTime": {
     "end_time": "2020-05-31T04:31:09.128794Z",
     "start_time": "2020-05-31T04:31:09.104859Z"
    }
   },
   "outputs": [
    {
     "name": "stdout",
     "output_type": "stream",
     "text": [
      "Evaluation metric results:-\n",
      "MSE is : 130.19890782430633\n",
      "MAE is : 10.578096050945016\n",
      "RMSE is : 11.41047360210374\n",
      "MAPE is : 5.371184257014935\n",
      "R2 is : -6.113609198116427\n",
      "\n"
     ]
    }
   ],
   "source": [
    "#using values from grid search\n",
    "fitSES = SimpleExpSmoothing(np.asarray(train)).fit( smoothing_level = 0.1,optimized= False)\n",
    "fcst_gs_pred = fitSES.forecast(30)\n",
    "timeseries_evaluation_metrics_func(test,fcst_gs_pred)"
   ]
  },
  {
   "cell_type": "code",
   "execution_count": 9,
   "metadata": {
    "ExecuteTime": {
     "end_time": "2020-05-31T04:31:10.890083Z",
     "start_time": "2020-05-31T04:31:10.867144Z"
    }
   },
   "outputs": [
    {
     "name": "stdout",
     "output_type": "stream",
     "text": [
      "Evaluation metric results:-\n",
      "MSE is : 97.68044570185559\n",
      "MAE is : 8.909413782094074\n",
      "RMSE is : 9.883341828645591\n",
      "MAPE is : 4.51628082001638\n",
      "R2 is : -4.336915098846252\n",
      "\n"
     ]
    }
   ],
   "source": [
    "#Automated smoothing_level\n",
    "fitSESauto = SimpleExpSmoothing(np.asarray(train)).fit( optimized= True, use_brute = True)\n",
    "fcst_auto_pred = fitSESauto.forecast(30)\n",
    "timeseries_evaluation_metrics_func(test,fcst_auto_pred)"
   ]
  },
  {
   "cell_type": "code",
   "execution_count": 10,
   "metadata": {
    "ExecuteTime": {
     "end_time": "2020-05-31T04:31:15.389050Z",
     "start_time": "2020-05-31T04:31:15.365116Z"
    }
   },
   "outputs": [
    {
     "data": {
      "text/html": [
       "<table class=\"simpletable\">\n",
       "<caption>SimpleExpSmoothing Model Results</caption>\n",
       "<tr>\n",
       "  <th>Dep. Variable:</th>           <td>endog</td>       <th>  No. Observations:  </th>       <td>1229</td>      \n",
       "</tr>\n",
       "<tr>\n",
       "  <th>Model:</th>            <td>SimpleExpSmoothing</td> <th>  SSE                </th>     <td>8965.774</td>    \n",
       "</tr>\n",
       "<tr>\n",
       "  <th>Optimized:</th>               <td>True</td>        <th>  AIC                </th>     <td>2446.285</td>    \n",
       "</tr>\n",
       "<tr>\n",
       "  <th>Trend:</th>                   <td>None</td>        <th>  BIC                </th>     <td>2456.513</td>    \n",
       "</tr>\n",
       "<tr>\n",
       "  <th>Seasonal:</th>                <td>None</td>        <th>  AICC               </th>     <td>2446.318</td>    \n",
       "</tr>\n",
       "<tr>\n",
       "  <th>Seasonal Periods:</th>        <td>None</td>        <th>  Date:              </th> <td>Fri, 01 Apr 2022</td>\n",
       "</tr>\n",
       "<tr>\n",
       "  <th>Box-Cox:</th>                 <td>False</td>       <th>  Time:              </th>     <td>17:48:00</td>    \n",
       "</tr>\n",
       "<tr>\n",
       "  <th>Box-Cox Coeff.:</th>          <td>None</td>        <th>                     </th>         <td> </td>       \n",
       "</tr>\n",
       "</table>\n",
       "<table class=\"simpletable\">\n",
       "<tr>\n",
       "         <td></td>                 <th>coeff</th>                <th>code</th>               <th>optimized</th>     \n",
       "</tr>\n",
       "<tr>\n",
       "  <th>smoothing_level</th> <td>           0.9808445</td> <td>               alpha</td> <td>                True</td>\n",
       "</tr>\n",
       "<tr>\n",
       "  <th>initial_level</th>   <td>           76.525895</td> <td>                 l.0</td> <td>                True</td>\n",
       "</tr>\n",
       "</table>"
      ],
      "text/plain": [
       "<class 'statsmodels.iolib.summary.Summary'>\n",
       "\"\"\"\n",
       "                       SimpleExpSmoothing Model Results                       \n",
       "==============================================================================\n",
       "Dep. Variable:                  endog   No. Observations:                 1229\n",
       "Model:             SimpleExpSmoothing   SSE                           8965.774\n",
       "Optimized:                       True   AIC                           2446.285\n",
       "Trend:                           None   BIC                           2456.513\n",
       "Seasonal:                        None   AICC                          2446.318\n",
       "Seasonal Periods:                None   Date:                 Fri, 01 Apr 2022\n",
       "Box-Cox:                        False   Time:                         17:48:00\n",
       "Box-Cox Coeff.:                  None                                         \n",
       "==============================================================================\n",
       "                       coeff                 code              optimized      \n",
       "------------------------------------------------------------------------------\n",
       "smoothing_level            0.9808445                alpha                 True\n",
       "initial_level              76.525895                  l.0                 True\n",
       "------------------------------------------------------------------------------\n",
       "\"\"\""
      ]
     },
     "execution_count": 10,
     "metadata": {},
     "output_type": "execute_result"
    }
   ],
   "source": [
    "fitSESauto.summary()"
   ]
  },
  {
   "cell_type": "code",
   "execution_count": 11,
   "metadata": {
    "ExecuteTime": {
     "end_time": "2020-05-31T04:31:18.413959Z",
     "start_time": "2020-05-31T04:31:18.406980Z"
    }
   },
   "outputs": [],
   "source": [
    "\n",
    "df_fcst_gs_pred = pd.DataFrame(fcst_gs_pred, columns=['Close_grid_Search'])\n",
    "df_fcst_gs_pred[\"new_index\"] = range(1229    , 1259)\n",
    "df_fcst_gs_pred = df_fcst_gs_pred.set_index(\"new_index\")\n"
   ]
  },
  {
   "cell_type": "code",
   "execution_count": 12,
   "metadata": {
    "ExecuteTime": {
     "end_time": "2020-05-31T04:31:20.144331Z",
     "start_time": "2020-05-31T04:31:20.136355Z"
    }
   },
   "outputs": [],
   "source": [
    "df_fcst_auto_pred = pd.DataFrame(fcst_auto_pred, columns=['Close_auto_search'])\n",
    "df_fcst_auto_pred[\"new_index\"] = range(1229    , 1259)\n",
    "df_fcst_auto_pred = df_fcst_auto_pred.set_index(\"new_index\")"
   ]
  },
  {
   "cell_type": "code",
   "execution_count": 13,
   "metadata": {
    "ExecuteTime": {
     "end_time": "2020-05-31T04:31:22.863059Z",
     "start_time": "2020-05-31T04:31:22.137003Z"
    }
   },
   "outputs": [
    {
     "data": {
      "image/png": "[encoded data removed]",
      "text/plain": [
       "<Figure size 1152x648 with 1 Axes>"
      ]
     },
     "metadata": {
      "needs_background": "light"
     },
     "output_type": "display_data"
    }
   ],
   "source": [
    "import matplotlib.pyplot as plt\n",
    "%matplotlib inline\n",
    "plt.rcParams[\"figure.figsize\"] = [16,9]\n",
    "plt.plot( train, label='Train')\n",
    "plt.plot(test, label='Test')\n",
    "plt.plot(df_fcst_auto_pred, label='Simple Exponential Smoothing using optimized =True')\n",
    "plt.plot(df_fcst_gs_pred, label='Simple Exponential Smoothing using custom grid search')\n",
    "plt.legend(loc='best')\n",
    "plt.show()"
   ]
  },
  {
   "cell_type": "code",
   "execution_count": null,
   "metadata": {},
   "outputs": [],
   "source": []
  },
  {
   "cell_type": "code",
   "execution_count": null,
   "metadata": {},
   "outputs": [],
   "source": []
  },
  {
   "cell_type": "code",
   "execution_count": null,
   "metadata": {},
   "outputs": [],
   "source": []
  },
  {
   "cell_type": "code",
   "execution_count": null,
   "metadata": {},
   "outputs": [],
   "source": []
  },
  {
   "cell_type": "code",
   "execution_count": null,
   "metadata": {},
   "outputs": [],
   "source": []
  }
 ],
 "metadata": {
  "kernelspec": {
   "display_name": "Python 3",
   "language": "python",
   "name": "python3"
  },
  "language_info": {
   "codemirror_mode": {
    "name": "ipython",
    "version": 3
   },
   "file_extension": ".py",
   "mimetype": "text/x-python",
   "name": "python",
   "nbconvert_exporter": "python",
   "pygments_lexer": "ipython3",
   "version": "3.9.12"
  },
  "latex_envs": {
   "LaTeX_envs_menu_present": true,
   "autoclose": false,
   "autocomplete": true,
   "bibliofile": "biblio.bib",
   "cite_by": "apalike",
   "current_citInitial": 1,
   "eqLabelWithNumbers": true,
   "eqNumInitial": 1,
   "hotkeys": {
    "equation": "Ctrl-E",
    "itemize": "Ctrl-I"
   },
   "labels_anchors": false,
   "latex_user_defs": false,
   "report_style_numbering": false,
   "user_envs_cfg": false
  },
  "nbTranslate": {
   "displayLangs": [
    "*"
   ],
   "hotkey": "alt-t",
   "langInMainMenu": true,
   "sourceLang": "en",
   "targetLang": "fr",
   "useGoogleTranslate": true
  }
 },
 "nbformat": 4,
 "nbformat_minor": 2
}
