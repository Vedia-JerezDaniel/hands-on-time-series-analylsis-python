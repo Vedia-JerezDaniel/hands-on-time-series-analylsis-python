{
 "cells": [
  {
   "cell_type": "code",
   "execution_count": 1,
   "metadata": {},
   "outputs": [],
   "source": [
    "from statsmodels.tsa.api import ExponentialSmoothing\n",
    "import pandas as pd\n",
    "import numpy as np\n",
    "from sklearn import metrics\n",
    "from timeit import default_timer as timer"
   ]
  },
  {
   "cell_type": "code",
   "execution_count": 2,
   "metadata": {},
   "outputs": [],
   "source": [
    "df = pd.read_csv(r'..\\Data\\FB.csv')"
   ]
  },
  {
   "cell_type": "code",
   "execution_count": 3,
   "metadata": {
    "scrolled": true
   },
   "outputs": [
    {
     "data": {
      "text/html": [
       "<div>\n",
       "<style scoped>\n",
       "    .dataframe tbody tr th:only-of-type {\n",
       "        vertical-align: middle;\n",
       "    }\n",
       "\n",
       "    .dataframe tbody tr th {\n",
       "        vertical-align: top;\n",
       "    }\n",
       "\n",
       "    .dataframe thead th {\n",
       "        text-align: right;\n",
       "    }\n",
       "</style>\n",
       "<table border=\"1\" class=\"dataframe\">\n",
       "  <thead>\n",
       "    <tr style=\"text-align: right;\">\n",
       "      <th></th>\n",
       "      <th>Date</th>\n",
       "      <th>Open</th>\n",
       "      <th>High</th>\n",
       "      <th>Low</th>\n",
       "      <th>Close</th>\n",
       "      <th>Adj Close</th>\n",
       "      <th>Volume</th>\n",
       "    </tr>\n",
       "  </thead>\n",
       "  <tbody>\n",
       "    <tr>\n",
       "      <th>0</th>\n",
       "      <td>2014-12-08</td>\n",
       "      <td>76.180000</td>\n",
       "      <td>77.250000</td>\n",
       "      <td>75.400002</td>\n",
       "      <td>76.519997</td>\n",
       "      <td>76.519997</td>\n",
       "      <td>25733900</td>\n",
       "    </tr>\n",
       "    <tr>\n",
       "      <th>1</th>\n",
       "      <td>2014-12-09</td>\n",
       "      <td>75.199997</td>\n",
       "      <td>76.930000</td>\n",
       "      <td>74.779999</td>\n",
       "      <td>76.839996</td>\n",
       "      <td>76.839996</td>\n",
       "      <td>25358600</td>\n",
       "    </tr>\n",
       "    <tr>\n",
       "      <th>2</th>\n",
       "      <td>2014-12-10</td>\n",
       "      <td>76.650002</td>\n",
       "      <td>77.550003</td>\n",
       "      <td>76.070000</td>\n",
       "      <td>76.180000</td>\n",
       "      <td>76.180000</td>\n",
       "      <td>32210500</td>\n",
       "    </tr>\n",
       "    <tr>\n",
       "      <th>3</th>\n",
       "      <td>2014-12-11</td>\n",
       "      <td>76.519997</td>\n",
       "      <td>78.519997</td>\n",
       "      <td>76.480003</td>\n",
       "      <td>77.730003</td>\n",
       "      <td>77.730003</td>\n",
       "      <td>33462100</td>\n",
       "    </tr>\n",
       "    <tr>\n",
       "      <th>4</th>\n",
       "      <td>2014-12-12</td>\n",
       "      <td>77.160004</td>\n",
       "      <td>78.879997</td>\n",
       "      <td>77.019997</td>\n",
       "      <td>77.830002</td>\n",
       "      <td>77.830002</td>\n",
       "      <td>28091600</td>\n",
       "    </tr>\n",
       "    <tr>\n",
       "      <th>...</th>\n",
       "      <td>...</td>\n",
       "      <td>...</td>\n",
       "      <td>...</td>\n",
       "      <td>...</td>\n",
       "      <td>...</td>\n",
       "      <td>...</td>\n",
       "      <td>...</td>\n",
       "    </tr>\n",
       "    <tr>\n",
       "      <th>1254</th>\n",
       "      <td>2019-12-02</td>\n",
       "      <td>202.130005</td>\n",
       "      <td>202.179993</td>\n",
       "      <td>198.050003</td>\n",
       "      <td>199.699997</td>\n",
       "      <td>199.699997</td>\n",
       "      <td>11503400</td>\n",
       "    </tr>\n",
       "    <tr>\n",
       "      <th>1255</th>\n",
       "      <td>2019-12-03</td>\n",
       "      <td>197.600006</td>\n",
       "      <td>198.929993</td>\n",
       "      <td>195.080002</td>\n",
       "      <td>198.820007</td>\n",
       "      <td>198.820007</td>\n",
       "      <td>11595300</td>\n",
       "    </tr>\n",
       "    <tr>\n",
       "      <th>1256</th>\n",
       "      <td>2019-12-04</td>\n",
       "      <td>200.000000</td>\n",
       "      <td>200.029999</td>\n",
       "      <td>198.050003</td>\n",
       "      <td>198.710007</td>\n",
       "      <td>198.710007</td>\n",
       "      <td>8456300</td>\n",
       "    </tr>\n",
       "    <tr>\n",
       "      <th>1257</th>\n",
       "      <td>2019-12-05</td>\n",
       "      <td>199.860001</td>\n",
       "      <td>201.289993</td>\n",
       "      <td>198.210007</td>\n",
       "      <td>199.360001</td>\n",
       "      <td>199.360001</td>\n",
       "      <td>9740400</td>\n",
       "    </tr>\n",
       "    <tr>\n",
       "      <th>1258</th>\n",
       "      <td>2019-12-06</td>\n",
       "      <td>200.500000</td>\n",
       "      <td>201.566895</td>\n",
       "      <td>200.070007</td>\n",
       "      <td>201.050003</td>\n",
       "      <td>201.050003</td>\n",
       "      <td>12279525</td>\n",
       "    </tr>\n",
       "  </tbody>\n",
       "</table>\n",
       "<p>1259 rows × 7 columns</p>\n",
       "</div>"
      ],
      "text/plain": [
       "            Date        Open        High         Low       Close   Adj Close  \\\n",
       "0     2014-12-08   76.180000   77.250000   75.400002   76.519997   76.519997   \n",
       "1     2014-12-09   75.199997   76.930000   74.779999   76.839996   76.839996   \n",
       "2     2014-12-10   76.650002   77.550003   76.070000   76.180000   76.180000   \n",
       "3     2014-12-11   76.519997   78.519997   76.480003   77.730003   77.730003   \n",
       "4     2014-12-12   77.160004   78.879997   77.019997   77.830002   77.830002   \n",
       "...          ...         ...         ...         ...         ...         ...   \n",
       "1254  2019-12-02  202.130005  202.179993  198.050003  199.699997  199.699997   \n",
       "1255  2019-12-03  197.600006  198.929993  195.080002  198.820007  198.820007   \n",
       "1256  2019-12-04  200.000000  200.029999  198.050003  198.710007  198.710007   \n",
       "1257  2019-12-05  199.860001  201.289993  198.210007  199.360001  199.360001   \n",
       "1258  2019-12-06  200.500000  201.566895  200.070007  201.050003  201.050003   \n",
       "\n",
       "        Volume  \n",
       "0     25733900  \n",
       "1     25358600  \n",
       "2     32210500  \n",
       "3     33462100  \n",
       "4     28091600  \n",
       "...        ...  \n",
       "1254  11503400  \n",
       "1255  11595300  \n",
       "1256   8456300  \n",
       "1257   9740400  \n",
       "1258  12279525  \n",
       "\n",
       "[1259 rows x 7 columns]"
      ]
     },
     "execution_count": 3,
     "metadata": {},
     "output_type": "execute_result"
    }
   ],
   "source": [
    "df"
   ]
  },
  {
   "cell_type": "code",
   "execution_count": 4,
   "metadata": {},
   "outputs": [],
   "source": [
    "X = df['Close']"
   ]
  },
  {
   "cell_type": "code",
   "execution_count": 5,
   "metadata": {},
   "outputs": [],
   "source": [
    "test = X.iloc[-30:]"
   ]
  },
  {
   "cell_type": "code",
   "execution_count": 6,
   "metadata": {},
   "outputs": [],
   "source": [
    "train = X.iloc[:-30]"
   ]
  },
  {
   "cell_type": "code",
   "execution_count": null,
   "metadata": {},
   "outputs": [],
   "source": [
    "'''\n",
    "Holt Winter’s Exponential Smoothing\n",
    "Parameters: \n",
    "\n",
    "    endog (array-like) – Time series\n",
    "    trend ({\"add\", \"mul\", \"additive\", \"multiplicative\", None}, optional) – Type of trend component.\n",
    "    damped (bool, optional) – Should the trend component be damped.\n",
    "    seasonal ({\"add\", \"mul\", \"additive\", \"multiplicative\", None}, optional) – Type of seasonal component.\n",
    "    seasonal_periods (int, optional) – The number of seasons to consider for the holt winters.\n",
    "    '''\n"
   ]
  },
  {
   "cell_type": "code",
   "execution_count": null,
   "metadata": {},
   "outputs": [],
   "source": [
    "'''\n",
    "fit Parameters: \n",
    "\n",
    "    smoothing_level (float, optional) – The alpha value of the simple exponential smoothing, if the value is set then this value will be used as the value.\n",
    "    smoothing_slope (float, optional) – The beta value of the holts trend method, if the value is set then this value will be used as the value.\n",
    "    smoothing_seasonal (float, optional) – The gamma value of the holt winters seasonal method, if the value is set then this value will be used as the value.\n",
    "    damping_slope (float, optional) – The phi value of the damped method, if the value is set then this value will be used as the value.\n",
    "    optimized (bool, optional) – Should the values that have not been set above be optimized automatically?\n",
    "    use_boxcox ({True, False, 'log', float}, optional) – Should the boxcox tranform be applied to the data first? If ‘log’ then apply the log. If float then use lambda equal to float.\n",
    "    remove_bias (bool, optional) – Should the bias be removed from the forecast values and fitted values before being returned? Does this by enforcing average residuals equal to zero.\n",
    "    use_basinhopping (bool, optional) – Should the opptimser try harder using basinhopping to find optimal values?\n",
    "'''\n"
   ]
  },
  {
   "cell_type": "code",
   "execution_count": 7,
   "metadata": {},
   "outputs": [],
   "source": [
    "def timeseries_evaluation_metrics_func(y_true, y_pred):\n",
    "    \n",
    "    def mean_absolute_percentage_error(y_true, y_pred): \n",
    "        y_true, y_pred = np.array(y_true), np.array(y_pred)\n",
    "        return np.mean(np.abs((y_true - y_pred) / y_true)) * 100\n",
    "    print('Evaluation metric results:-')\n",
    "    print(f'MSE is : {metrics.mean_squared_error(y_true, y_pred)}')\n",
    "    print(f'MAE is : {metrics.mean_absolute_error(y_true, y_pred)}')\n",
    "    print(f'RMSE is : {np.sqrt(metrics.mean_squared_error(y_true, y_pred))}')\n",
    "    print(f'MAPE is : {mean_absolute_percentage_error(y_true, y_pred)}')\n",
    "    print(f'R2 is : {metrics.r2_score(y_true, y_pred)}',end='\\n\\n')\n",
    "\n"
   ]
  },
  {
   "cell_type": "code",
   "execution_count": 23,
   "metadata": {},
   "outputs": [],
   "source": [
    "from sklearn.model_selection import ParameterGrid\n",
    "param_grid = {'trend': ['add', 'mul'],'seasonal' :['add', 'mul'],\n",
    "              'seasonal_periods':[6,12], \n",
    "              'smoothing_level': [0.10,.50,.70,.90], \n",
    "              'smoothing_slope':[0.10,.50,.70,.90],\n",
    "              'damping_slope': [0.10,.50,.70,.90],\n",
    "              'damped' : [True, False], \n",
    "              'remove_bias':[True],}\n",
    "pg = list(ParameterGrid(param_grid))\n"
   ]
  },
  {
   "cell_type": "code",
   "execution_count": null,
   "metadata": {},
   "outputs": [],
   "source": [
    "df_results_moni = pd.DataFrame(columns=['trend','seasonal_periods','smoothing_level', 'smoothing_slope',\n",
    "                                        'damping_slope','damped','remove_bias','use_basinhopping','RMSE','r2'])\n",
    "start = timer()\n",
    "print('Starting Grid Search..')\n",
    "for a,b in enumerate(pg):\n",
    "    trend = b.get('trend')\n",
    "    smoothing_level = b.get('smoothing_level')\n",
    "    seasonal_periods = b.get('seasonal_periods')\n",
    "    smoothing_level = b.get('smoothing_level')\n",
    "    smoothing_slope = b.get('smoothing_slope')\n",
    "    damping_slope = b.get('damping_slope')\n",
    "    damped = b.get('damped')\n",
    "    # use_boxcox = b.get('use_boxcox')\n",
    "    remove_bias = b.get('remove_bias')\n",
    "    use_basinhopping = b.get('use_basinhopping')\n",
    "    #print(trend,smoothing_level, smoothing_slope,damping_slope,damped,use_boxcox,remove_bias,use_basinhopping)\n",
    "    fit1 = ExponentialSmoothing(train,trend=trend, damped=damped,seasonal_periods=seasonal_periods ).fit(smoothing_level=smoothing_level, \n",
    "                                    smoothing_slope=smoothing_slope, damping_slope = damping_slope\n",
    "                                    ,optimized=False)\n",
    "    #fit1.summary\n",
    "    z = fit1.forecast(30)\n",
    "    #print(z)\n",
    "    df_pred = pd.DataFrame(z, columns=['Forecasted_result'])\n",
    "    RMSE = np.sqrt(metrics.mean_squared_error(test, df_pred.Forecasted_result))\n",
    "    r2 = metrics.r2_score(test, df_pred.Forecasted_result)\n",
    "    #print( f' RMSE is {np.sqrt(metrics.mean_squared_error(test, df_pred.Forecasted_result))}')\n",
    "    df_results_moni = df_results_moni.append({'trend':trend,'seasonal_periods':seasonal_periods,'smoothing_level':smoothing_level, 'smoothing_slope':smoothing_slope,\n",
    "                                        'damping_slope':damping_slope,'damped':damped,'use_basinhopping':use_basinhopping,'RMSE':RMSE,'r2':r2}, ignore_index=True)\n",
    "print('End of Grid Search')\n",
    "end = timer()\n",
    "print(f' Total time taken to complete grid search in seconds: {(end - start)}')\n"
   ]
  },
  {
   "cell_type": "code",
   "execution_count": 25,
   "metadata": {},
   "outputs": [
    {
     "name": "stdout",
     "output_type": "stream",
     "text": [
      " Below mentioned parameter gives least RMSE and r2\n"
     ]
    },
    {
     "data": {
      "text/html": [
       "<div>\n",
       "<style scoped>\n",
       "    .dataframe tbody tr th:only-of-type {\n",
       "        vertical-align: middle;\n",
       "    }\n",
       "\n",
       "    .dataframe tbody tr th {\n",
       "        vertical-align: top;\n",
       "    }\n",
       "\n",
       "    .dataframe thead th {\n",
       "        text-align: right;\n",
       "    }\n",
       "</style>\n",
       "<table border=\"1\" class=\"dataframe\">\n",
       "  <thead>\n",
       "    <tr style=\"text-align: right;\">\n",
       "      <th></th>\n",
       "      <th>trend</th>\n",
       "      <th>seasonal_periods</th>\n",
       "      <th>smoothing_level</th>\n",
       "      <th>smoothing_slope</th>\n",
       "      <th>damping_slope</th>\n",
       "      <th>damped</th>\n",
       "      <th>remove_bias</th>\n",
       "      <th>use_basinhopping</th>\n",
       "      <th>RMSE</th>\n",
       "      <th>r2</th>\n",
       "    </tr>\n",
       "  </thead>\n",
       "  <tbody>\n",
       "    <tr>\n",
       "      <th>533</th>\n",
       "      <td>mul</td>\n",
       "      <td>6</td>\n",
       "      <td>0.7</td>\n",
       "      <td>0.7</td>\n",
       "      <td>0.1</td>\n",
       "      <td>False</td>\n",
       "      <td>NaN</td>\n",
       "      <td>None</td>\n",
       "      <td>2.386851</td>\n",
       "      <td>0.688733</td>\n",
       "    </tr>\n",
       "  </tbody>\n",
       "</table>\n",
       "</div>"
      ],
      "text/plain": [
       "    trend seasonal_periods smoothing_level smoothing_slope damping_slope  \\\n",
       "533   mul                6             0.7             0.7           0.1   \n",
       "\n",
       "    damped remove_bias use_basinhopping      RMSE        r2  \n",
       "533  False         NaN             None  2.386851  0.688733  "
      ]
     },
     "execution_count": 25,
     "metadata": {},
     "output_type": "execute_result"
    }
   ],
   "source": [
    "print(f' Below mentioned parameter gives least RMSE and r2')\n",
    "df_results_moni.sort_values(by=['RMSE','r2']).head(1)\n",
    "\n"
   ]
  },
  {
   "cell_type": "code",
   "execution_count": 11,
   "metadata": {},
   "outputs": [
    {
     "name": "stdout",
     "output_type": "stream",
     "text": [
      "<class 'pandas.core.frame.DataFrame'>\n",
      "RangeIndex: 108 entries, 0 to 107\n",
      "Data columns (total 10 columns):\n",
      " #   Column            Non-Null Count  Dtype \n",
      "---  ------            --------------  ----- \n",
      " 0   trend             108 non-null    object\n",
      " 1   seasonal_periods  108 non-null    object\n",
      " 2   smoothing_level   108 non-null    object\n",
      " 3   smoothing_slope   108 non-null    object\n",
      " 4   damping_slope     108 non-null    object\n",
      " 5   damped            108 non-null    object\n",
      " 6   remove_bias       0 non-null      object\n",
      " 7   use_basinhopping  108 non-null    object\n",
      " 8   RMSE              108 non-null    object\n",
      " 9   r2                108 non-null    object\n",
      "dtypes: object(10)\n",
      "memory usage: 8.6+ KB\n"
     ]
    }
   ],
   "source": [
    "df_results_moni.info()"
   ]
  },
  {
   "cell_type": "code",
   "execution_count": 26,
   "metadata": {},
   "outputs": [
    {
     "name": "stderr",
     "output_type": "stream",
     "text": [
      "C:\\Users\\canut\\AppData\\Local\\Temp\\ipykernel_1616\\1224100606.py:1: FutureWarning: the 'damped'' keyword is deprecated, use 'damped_trend' instead.\n",
      "  fit1 = ExponentialSmoothing(train,trend='mul', damped=False,seasonal_periods=6 ).fit(smoothing_level=0.7,\n",
      "C:\\Users\\canut\\AppData\\Local\\Temp\\ipykernel_1616\\1224100606.py:1: FutureWarning: the 'smoothing_slope'' keyword is deprecated, use 'smoothing_trend' instead.\n",
      "  fit1 = ExponentialSmoothing(train,trend='mul', damped=False,seasonal_periods=6 ).fit(smoothing_level=0.7,\n",
      "C:\\Newprograms\\Anaconda\\envs\\or\\lib\\site-packages\\pandas\\util\\_decorators.py:207: FutureWarning: the 'damping_slope'' keyword is deprecated, use 'damping_trend' instead.\n",
      "  return func(*args, **kwargs)\n"
     ]
    }
   ],
   "source": [
    "fit1 = ExponentialSmoothing(train,trend='mul', damped=False,seasonal_periods=6 ).fit(smoothing_level=0.7, \n",
    "                                    smoothing_slope=0.7, damping_slope = 0.1,optimized=False)\n",
    "\n"
   ]
  },
  {
   "cell_type": "code",
   "execution_count": 27,
   "metadata": {},
   "outputs": [],
   "source": [
    "Forecast_custom_pred = fit1.forecast(30)"
   ]
  },
  {
   "cell_type": "code",
   "execution_count": 28,
   "metadata": {},
   "outputs": [
    {
     "data": {
      "text/html": [
       "<table class=\"simpletable\">\n",
       "<caption>ExponentialSmoothing Model Results</caption>\n",
       "<tr>\n",
       "  <th>Dep. Variable:</th>            <td>Close</td>        <th>  No. Observations:  </th>       <td>1229</td>      \n",
       "</tr>\n",
       "<tr>\n",
       "  <th>Model:</th>            <td>ExponentialSmoothing</td> <th>  SSE                </th>     <td>12219.307</td>   \n",
       "</tr>\n",
       "<tr>\n",
       "  <th>Optimized:</th>                <td>False</td>        <th>  AIC                </th>     <td>2830.787</td>    \n",
       "</tr>\n",
       "<tr>\n",
       "  <th>Trend:</th>               <td>Multiplicative</td>    <th>  BIC                </th>     <td>2851.243</td>    \n",
       "</tr>\n",
       "<tr>\n",
       "  <th>Seasonal:</th>                 <td>None</td>         <th>  AICC               </th>     <td>2830.856</td>    \n",
       "</tr>\n",
       "<tr>\n",
       "  <th>Seasonal Periods:</th>         <td>None</td>         <th>  Date:              </th> <td>Fri, 01 Apr 2022</td>\n",
       "</tr>\n",
       "<tr>\n",
       "  <th>Box-Cox:</th>                  <td>False</td>        <th>  Time:              </th>     <td>18:36:12</td>    \n",
       "</tr>\n",
       "<tr>\n",
       "  <th>Box-Cox Coeff.:</th>           <td>None</td>         <th>                     </th>         <td> </td>       \n",
       "</tr>\n",
       "</table>\n",
       "<table class=\"simpletable\">\n",
       "<tr>\n",
       "         <td></td>                 <th>coeff</th>                <th>code</th>               <th>optimized</th>     \n",
       "</tr>\n",
       "<tr>\n",
       "  <th>smoothing_level</th> <td>           0.7000000</td> <td>               alpha</td> <td>               False</td>\n",
       "</tr>\n",
       "<tr>\n",
       "  <th>smoothing_trend</th> <td>           0.7000000</td> <td>                beta</td> <td>               False</td>\n",
       "</tr>\n",
       "<tr>\n",
       "  <th>initial_level</th>   <td>           76.088665</td> <td>                 l.0</td> <td>               False</td>\n",
       "</tr>\n",
       "<tr>\n",
       "  <th>initial_trend</th>   <td>           1.0024573</td> <td>                 b.0</td> <td>               False</td>\n",
       "</tr>\n",
       "</table>"
      ],
      "text/plain": [
       "<class 'statsmodels.iolib.summary.Summary'>\n",
       "\"\"\"\n",
       "                       ExponentialSmoothing Model Results                       \n",
       "================================================================================\n",
       "Dep. Variable:                    Close   No. Observations:                 1229\n",
       "Model:             ExponentialSmoothing   SSE                          12219.307\n",
       "Optimized:                        False   AIC                           2830.787\n",
       "Trend:                   Multiplicative   BIC                           2851.243\n",
       "Seasonal:                          None   AICC                          2830.856\n",
       "Seasonal Periods:                  None   Date:                 Fri, 01 Apr 2022\n",
       "Box-Cox:                          False   Time:                         18:36:12\n",
       "Box-Cox Coeff.:                    None                                         \n",
       "==============================================================================\n",
       "                       coeff                 code              optimized      \n",
       "------------------------------------------------------------------------------\n",
       "smoothing_level            0.7000000                alpha                False\n",
       "smoothing_trend            0.7000000                 beta                False\n",
       "initial_level              76.088665                  l.0                False\n",
       "initial_trend              1.0024573                  b.0                False\n",
       "------------------------------------------------------------------------------\n",
       "\"\"\""
      ]
     },
     "execution_count": 28,
     "metadata": {},
     "output_type": "execute_result"
    }
   ],
   "source": [
    "fit1.summary()"
   ]
  },
  {
   "cell_type": "code",
   "execution_count": 29,
   "metadata": {},
   "outputs": [
    {
     "name": "stdout",
     "output_type": "stream",
     "text": [
      "Evaluation metric results:-\n",
      "MSE is : 5.697059054191133\n",
      "MAE is : 1.989762897873527\n",
      "RMSE is : 2.3868512844731513\n",
      "MAPE is : 1.018008676762412\n",
      "R2 is : 0.6887327830369039\n",
      "\n"
     ]
    }
   ],
   "source": [
    "timeseries_evaluation_metrics_func(test,Forecast_custom_pred)"
   ]
  },
  {
   "cell_type": "code",
   "execution_count": 30,
   "metadata": {},
   "outputs": [],
   "source": [
    "# Fitting model with optimized =True\n",
    "fitESAUTO = ExponentialSmoothing(train).fit(optimized= True, use_brute = True)"
   ]
  },
  {
   "cell_type": "code",
   "execution_count": 31,
   "metadata": {},
   "outputs": [
    {
     "data": {
      "text/html": [
       "<table class=\"simpletable\">\n",
       "<caption>ExponentialSmoothing Model Results</caption>\n",
       "<tr>\n",
       "  <th>Dep. Variable:</th>            <td>Close</td>        <th>  No. Observations:  </th>       <td>1229</td>      \n",
       "</tr>\n",
       "<tr>\n",
       "  <th>Model:</th>            <td>ExponentialSmoothing</td> <th>  SSE                </th>     <td>8965.774</td>    \n",
       "</tr>\n",
       "<tr>\n",
       "  <th>Optimized:</th>                <td>True</td>         <th>  AIC                </th>     <td>2446.285</td>    \n",
       "</tr>\n",
       "<tr>\n",
       "  <th>Trend:</th>                    <td>None</td>         <th>  BIC                </th>     <td>2456.513</td>    \n",
       "</tr>\n",
       "<tr>\n",
       "  <th>Seasonal:</th>                 <td>None</td>         <th>  AICC               </th>     <td>2446.318</td>    \n",
       "</tr>\n",
       "<tr>\n",
       "  <th>Seasonal Periods:</th>         <td>None</td>         <th>  Date:              </th> <td>Fri, 01 Apr 2022</td>\n",
       "</tr>\n",
       "<tr>\n",
       "  <th>Box-Cox:</th>                  <td>False</td>        <th>  Time:              </th>     <td>18:36:22</td>    \n",
       "</tr>\n",
       "<tr>\n",
       "  <th>Box-Cox Coeff.:</th>           <td>None</td>         <th>                     </th>         <td> </td>       \n",
       "</tr>\n",
       "</table>\n",
       "<table class=\"simpletable\">\n",
       "<tr>\n",
       "         <td></td>                 <th>coeff</th>                <th>code</th>               <th>optimized</th>     \n",
       "</tr>\n",
       "<tr>\n",
       "  <th>smoothing_level</th> <td>           0.9808438</td> <td>               alpha</td> <td>                True</td>\n",
       "</tr>\n",
       "<tr>\n",
       "  <th>initial_level</th>   <td>           76.525912</td> <td>                 l.0</td> <td>                True</td>\n",
       "</tr>\n",
       "</table>"
      ],
      "text/plain": [
       "<class 'statsmodels.iolib.summary.Summary'>\n",
       "\"\"\"\n",
       "                       ExponentialSmoothing Model Results                       \n",
       "================================================================================\n",
       "Dep. Variable:                    Close   No. Observations:                 1229\n",
       "Model:             ExponentialSmoothing   SSE                           8965.774\n",
       "Optimized:                         True   AIC                           2446.285\n",
       "Trend:                             None   BIC                           2456.513\n",
       "Seasonal:                          None   AICC                          2446.318\n",
       "Seasonal Periods:                  None   Date:                 Fri, 01 Apr 2022\n",
       "Box-Cox:                          False   Time:                         18:36:22\n",
       "Box-Cox Coeff.:                    None                                         \n",
       "==============================================================================\n",
       "                       coeff                 code              optimized      \n",
       "------------------------------------------------------------------------------\n",
       "smoothing_level            0.9808438                alpha                 True\n",
       "initial_level              76.525912                  l.0                 True\n",
       "------------------------------------------------------------------------------\n",
       "\"\"\""
      ]
     },
     "execution_count": 31,
     "metadata": {},
     "output_type": "execute_result"
    }
   ],
   "source": [
    "fitESAUTO.summary()"
   ]
  },
  {
   "cell_type": "code",
   "execution_count": 32,
   "metadata": {},
   "outputs": [],
   "source": [
    "fitESAUTOpred = fitESAUTO.forecast(30)"
   ]
  },
  {
   "cell_type": "code",
   "execution_count": 33,
   "metadata": {},
   "outputs": [
    {
     "name": "stdout",
     "output_type": "stream",
     "text": [
      "Evaluation metric results:-\n",
      "MSE is : 97.68045012515303\n",
      "MAE is : 8.909414030331357\n",
      "RMSE is : 9.883342052420984\n",
      "MAPE is : 4.516280947193922\n",
      "R2 is : -4.336915340519627\n",
      "\n"
     ]
    }
   ],
   "source": [
    "timeseries_evaluation_metrics_func(test,fitESAUTOpred)"
   ]
  },
  {
   "cell_type": "code",
   "execution_count": 34,
   "metadata": {},
   "outputs": [
    {
     "data": {
      "image/png": "[encoded data removed]",
      "text/plain": [
       "<Figure size 1152x648 with 1 Axes>"
      ]
     },
     "metadata": {
      "needs_background": "light"
     },
     "output_type": "display_data"
    }
   ],
   "source": [
    "import matplotlib.pyplot as plt\n",
    "get_ipython().run_line_magic('matplotlib', 'inline')\n",
    "plt.rcParams[\"figure.figsize\"] = [16,9]\n",
    "plt.plot( train, label='Train')\n",
    "plt.plot(test, label='Test')\n",
    "plt.plot(fitESAUTOpred, label='Automated grid search')\n",
    "plt.plot(Forecast_custom_pred, label='Triple Exponential Smoothing with custom grid search')\n",
    "plt.legend(loc='best')\n",
    "plt.show()"
   ]
  },
  {
   "cell_type": "code",
   "execution_count": null,
   "metadata": {},
   "outputs": [],
   "source": []
  },
  {
   "cell_type": "code",
   "execution_count": null,
   "metadata": {},
   "outputs": [],
   "source": []
  },
  {
   "cell_type": "code",
   "execution_count": null,
   "metadata": {},
   "outputs": [],
   "source": []
  },
  {
   "cell_type": "code",
   "execution_count": null,
   "metadata": {},
   "outputs": [],
   "source": []
  },
  {
   "cell_type": "code",
   "execution_count": null,
   "metadata": {},
   "outputs": [],
   "source": []
  },
  {
   "cell_type": "code",
   "execution_count": null,
   "metadata": {},
   "outputs": [],
   "source": []
  },
  {
   "cell_type": "code",
   "execution_count": null,
   "metadata": {},
   "outputs": [],
   "source": []
  },
  {
   "cell_type": "code",
   "execution_count": null,
   "metadata": {},
   "outputs": [],
   "source": []
  },
  {
   "cell_type": "code",
   "execution_count": null,
   "metadata": {},
   "outputs": [],
   "source": []
  },
  {
   "cell_type": "code",
   "execution_count": null,
   "metadata": {},
   "outputs": [],
   "source": []
  },
  {
   "cell_type": "code",
   "execution_count": null,
   "metadata": {},
   "outputs": [],
   "source": []
  },
  {
   "cell_type": "code",
   "execution_count": null,
   "metadata": {},
   "outputs": [],
   "source": []
  },
  {
   "cell_type": "code",
   "execution_count": null,
   "metadata": {},
   "outputs": [],
   "source": []
  },
  {
   "cell_type": "code",
   "execution_count": null,
   "metadata": {},
   "outputs": [],
   "source": []
  },
  {
   "cell_type": "code",
   "execution_count": null,
   "metadata": {},
   "outputs": [],
   "source": []
  },
  {
   "cell_type": "code",
   "execution_count": null,
   "metadata": {},
   "outputs": [],
   "source": []
  },
  {
   "cell_type": "code",
   "execution_count": null,
   "metadata": {},
   "outputs": [],
   "source": []
  },
  {
   "cell_type": "code",
   "execution_count": null,
   "metadata": {},
   "outputs": [],
   "source": []
  },
  {
   "cell_type": "code",
   "execution_count": null,
   "metadata": {},
   "outputs": [],
   "source": []
  }
 ],
 "metadata": {
  "kernelspec": {
   "display_name": "Python 3",
   "language": "python",
   "name": "python3"
  },
  "language_info": {
   "codemirror_mode": {
    "name": "ipython",
    "version": 3
   },
   "file_extension": ".py",
   "mimetype": "text/x-python",
   "name": "python",
   "nbconvert_exporter": "python",
   "pygments_lexer": "ipython3",
   "version": "3.9.12"
  },
  "latex_envs": {
   "LaTeX_envs_menu_present": true,
   "autoclose": false,
   "autocomplete": true,
   "bibliofile": "biblio.bib",
   "cite_by": "apalike",
   "current_citInitial": 1,
   "eqLabelWithNumbers": true,
   "eqNumInitial": 1,
   "hotkeys": {
    "equation": "Ctrl-E",
    "itemize": "Ctrl-I"
   },
   "labels_anchors": false,
   "latex_user_defs": false,
   "report_style_numbering": false,
   "user_envs_cfg": false
  },
  "nbTranslate": {
   "displayLangs": [
    "*"
   ],
   "hotkey": "alt-t",
   "langInMainMenu": true,
   "sourceLang": "en",
   "targetLang": "fr",
   "useGoogleTranslate": true
  }
 },
 "nbformat": 4,
 "nbformat_minor": 2
}
